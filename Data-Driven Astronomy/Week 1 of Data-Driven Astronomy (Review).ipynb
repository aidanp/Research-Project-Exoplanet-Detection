{
 "cells": [
  {
   "cell_type": "markdown",
   "metadata": {},
   "source": [
    "# Week One\n",
    "\n",
    "In week one, the University of Sydney had me work with detection of Pulsars using FITS image files. Not only that but they had me take a general knowledge quiz on Pulsars of which I passed (100%).\n",
    "\n",
    "---\n",
    "\n",
    "### Characteristics of a Pulsar\n",
    "\n",
    "In this quiz I took, it outlined the some characteristics of Pulsars:\n",
    "* Pulsars are rapidly rotating neutron stars\n",
    "* Neutron stars are thought to conserve angular momentum when they collapse\n",
    "* Pulsars can't be spinning white dwarfs because it would be spinning so fast that the white dwarf would fly apart\n",
    "* Pulsars are thought to have about the same density as an atomic nucleus\n",
    "* Radio transmissions from pulsars come in pulses because the rotation axis and the magnetic axis are not always aligned\n",
    "\n",
    "---\n",
    "\n",
    "### Detecting Pulsars\n",
    "\n",
    "In this week, the main problem was to find how many pulsars were detected in images from the Murchison Widefield Array telescope. In images taken by this telescope, there are two main colors black and gray (it is in grayscale). Gray is background noise while black is usually distant raido galaxies (not objects in our galaxy). Sometimes these black dots represent thinks like pulsars and remnants of supernovas, but they are only temporary. The main way to find these pulsars is through a process called image stacking, where images are literally stacked so that these pulsars are more pronounced (more black).\n",
    "\n",
    "---\n",
    "\n",
    "### Coding \n",
    "\n",
    "The coding done was in a step by step process to demonstrate basic skill used in this method of pulsar detection:\n",
    "\n",
    "1. Mean of a list\n",
    "2. Mean of a 1D array\n",
    "3. Mean of a set of signals\n",
    "4. Read a FITS file\n",
    "5. Mean of a set of FITS files\n",
    "6. Comparing median and mean\n",
    "7. Time it!\n",
    "8. How much does the median cost?\n",
    "\n",
    "This list will be how these codes appear below, starting with \"Mean of a list\". Most of the coding done was defining functions to output correct values when given examples.\n"
   ]
  },
  {
   "cell_type": "code",
   "execution_count": null,
   "metadata": {},
   "outputs": [],
   "source": [
    "# Write your calculate_mean function here.\n",
    "\n",
    "def calculate_mean(data) :\n",
    "  m = sum(data) / len(data)\n",
    "  return m\n",
    "\n",
    "# You can use this to test your function.\n",
    "# Any code inside this `if` statement will be ignored by the automarker.\n",
    "if __name__ == '__main__':\n",
    "  # Run your `calculate_mean` function with examples:\n",
    "  mean = calculate_mean([1,2.2,0.3,3.4,7.9])\n",
    "  print(mean)\n",
    "  "
   ]
  },
  {
   "cell_type": "markdown",
   "metadata": {},
   "source": [
    "This code simply takes the mean of any data given in list form. Not much more explaination needed."
   ]
  },
  {
   "cell_type": "code",
   "execution_count": null,
   "metadata": {},
   "outputs": [],
   "source": [
    "# Write your calc_stats function here.\n",
    "import numpy as np\n",
    "def calc_stats(file) :\n",
    "  data = np.loadtxt(file, delimiter = ',')\n",
    "  x = round(np.mean(data), 1)\n",
    "  y = round(np.median(data), 1)\n",
    "  return (x, y)\n",
    "# You can use this to test your function.\n",
    "# Any code inside this `if` statement will be ignored by the automarker.\n",
    "if __name__ == '__main__':\n",
    "  # Run your `calc_stats` function with examples:\n",
    "  mean = calc_stats('data.csv')\n",
    "  print(mean)"
   ]
  },
  {
   "cell_type": "markdown",
   "metadata": {},
   "source": [
    "The only reason this code outputs an error is because there is no data file presented to te function, but if there had been like in the GROK learning web browser, then it would have outputed the correct result. All this code does is load a file with data and output the mean and the median rounded to the nearest tenth."
   ]
  },
  {
   "cell_type": "code",
   "execution_count": null,
   "metadata": {},
   "outputs": [],
   "source": [
    "# Write your mean_datasets function here\n",
    "import numpy as np\n",
    "def mean_datasets (files) :\n",
    "  n = len(files)\n",
    "  if n > 0 :\n",
    "    data = np.loadtxt(files[0], delimiter=',')\n",
    "    for i in range(1,n):\n",
    "      data += np.loadtxt(files[i], delimiter=',')\n",
    "    meanData = data / n\n",
    "    return np.round(meanData, 1)\n",
    "# You can use this to test your function.\n",
    "# Any code inside this `if` statement will be ignored by the automarker.\n",
    "if __name__ == '__main__':\n",
    "  # Run your function with the first example from the question:\n",
    "  print(mean_datasets(['data1.csv', 'data2.csv', 'data3.csv']))\n",
    "\n",
    "  # Run your function with the second example from the question:\n",
    "  print(mean_datasets(['data4.csv', 'data5.csv', 'data6.csv']))\n"
   ]
  },
  {
   "cell_type": "markdown",
   "metadata": {},
   "source": [
    "This one too used data sets that are provided by GROK learning, but the would work correctly if the data was provided. First this code checks if there are actually any files to load. If there are, it creates a variable, data, with the first file data loaded in. Next, a for loop occurs which loads and adds itself to the variable, data, so the mean can be taken from it. Finally, after the mean is taken, the function returns the mean of the data rounded to the nearest tenth."
   ]
  },
  {
   "cell_type": "code",
   "execution_count": null,
   "metadata": {},
   "outputs": [],
   "source": [
    "# Write your load_fits function here.\n",
    "from astropy.io import fits\n",
    "import numpy as np\n",
    "\n",
    "def load_fits (image) :\n",
    "  hdulist = fits.open(image)\n",
    "  data = hdulist[0].data\n",
    "\n",
    "  arg_max = np.argmax(data)\n",
    "  max_pos = np.unravel_index(arg_max, data.shape)\n",
    "  return max_pos\n",
    "\n",
    "if __name__ == '__main__':\n",
    "  # Run your `load_fits` function with examples:\n",
    "  bright = load_fits('image1.fits')\n",
    "  print(bright)\n",
    "\n",
    "  # You can also confirm your result visually:\n",
    "  from astropy.io import fits\n",
    "  import matplotlib.pyplot as plt\n",
    "\n",
    "  hdulist = fits.open('image1.fits')\n",
    "  data = hdulist[0].data\n",
    "\n",
    "  # Plot the 2D image data\n",
    "  plt.imshow(data.T, cmap=plt.cm.viridis)\n",
    "  plt.colorbar()\n",
    "  plt.show()"
   ]
  },
  {
   "cell_type": "markdown",
   "metadata": {},
   "source": [
    "This too uses external files, but this time .fits image files. All this function does is load the image file and return the brightest pixel (maximum value) in the image."
   ]
  },
  {
   "cell_type": "code",
   "execution_count": null,
   "metadata": {},
   "outputs": [],
   "source": [
    "# Write your mean_fits function here:\n",
    "from astropy.io import fits\n",
    "import numpy as np\n",
    "\n",
    "def mean_fits (images) :\n",
    "  i = 0\n",
    "  data = 0\n",
    "  n = len(images)\n",
    "  if n > 0 :\n",
    "    for i in range(0, n) :\n",
    "      hdulist = fits.open(images[i])\n",
    "      data += hdulist[0].data\n",
    "      hdulist.close()  \n",
    "    mean = data / n\n",
    "    return mean\n",
    "\n",
    "if __name__ == '__main__':\n",
    "  \n",
    "  # Test your function with examples from the question\n",
    "  data  = mean_fits(['image0.fits', 'image1.fits', 'image2.fits'])\n",
    "  print(data[100, 100])\n",
    "\n",
    "  # You can also plot the result:\n",
    "  import matplotlib.pyplot as plt\n",
    "  plt.imshow(data.T, cmap=plt.cm.viridis)\n",
    "  plt.colorbar()\n",
    "  plt.show()"
   ]
  },
  {
   "cell_type": "markdown",
   "metadata": {},
   "source": [
    "More external files being used. This time the code checks that there are images to load and then, much like \"Mean of a set of signals\", adds the data to the variable data and returns the mean."
   ]
  },
  {
   "cell_type": "code",
   "execution_count": null,
   "metadata": {},
   "outputs": [],
   "source": [
    "# Write your list_stats function here.\n",
    "def list_stats (statistics) :\n",
    "  if len(statistics) % 2 == 0 :  \n",
    "    statistics.sort()\n",
    "    mid = len(statistics)//2\n",
    "    median = (statistics[mid - 1] + statistics[mid])/2\n",
    "    mean = sum(statistics) / len(statistics)\n",
    "    return (median, mean)\n",
    "  else :  \n",
    "    statistics.sort()\n",
    "    mid = len(statistics)//2\n",
    "    median = statistics[mid]\n",
    "    mean = sum(statistics) / len(statistics)\n",
    "    return (median, mean)\n",
    "# You can use this to test your function.\n",
    "# Any code inside this `if` statement will be ignored by the automarker.\n",
    "if __name__ == '__main__':\n",
    "  # Run your function with the first example in the question.\n",
    "  m = list_stats([1.3, 2.4, 20.6, 0.95, 3.1, 2.7])\n",
    "  print(m)\n",
    "\n",
    "  # Run your function with the second example in the question\n",
    "  m = list_stats([1.5])\n",
    "  print(m)"
   ]
  },
  {
   "cell_type": "markdown",
   "metadata": {},
   "source": [
    "This DOESN'T use external files, but instead is a function that calculates the statistics for a list given. First, it determines whether the list is even or odd (to make median calculation easy). If it is even it finds the middle-most value of the list and calculates the median by taking the element before it and itself and dividing the sum by two. If the list's length was odd, then median calculation was simply just the middle value. The mean was calculated regularly."
   ]
  },
  {
   "cell_type": "code",
   "execution_count": null,
   "metadata": {},
   "outputs": [],
   "source": [
    "import numpy as np\n",
    "import statistics\n",
    "import time\n",
    "\n",
    "def time_stat(func, size, ntrials):\n",
    "  timeSum = 0\n",
    "  i = 0\n",
    "  while i < ntrials :\n",
    "    data = np.random.rand(size)\n",
    "    start = time.perf_counter()\n",
    "    res = func(data)\n",
    "    seconds = time.perf_counter() - start\n",
    "    i += 1\n",
    "    timeSum += seconds\n",
    "  avgTime = timeSum / i\n",
    "  return avgTime\n",
    "\n",
    "if __name__ == '__main__':\n",
    "  print('{:.6f}s for statistics.mean'.format(time_stat(statistics.mean, 10**5, 10)))\n",
    "  print('{:.6f}s for np.mean'.format(time_stat(np.mean, 10**5, 1000)))\n"
   ]
  },
  {
   "cell_type": "markdown",
   "metadata": {},
   "source": [
    "This function takes another function and times the time it takes to complete a random data set of a varying degree ntrials amount of times. Then, the mean of the total time is returned."
   ]
  },
  {
   "cell_type": "code",
   "execution_count": null,
   "metadata": {},
   "outputs": [],
   "source": [
    "# Write your function median_fits here:\n",
    "import time, numpy as np\n",
    "from astropy.io import fits\n",
    "\n",
    "def median_fits (images) :\n",
    "  timeTot = time.time()\n",
    "  fits_list = []\n",
    "  for file in images :\n",
    "    hdulist = fits.open(file)\n",
    "    fits_list.append(hdulist[0].data)\n",
    "    hdulist.close()\n",
    "  fits_median = np.dstack(fits_list)\n",
    "  \n",
    "  median = np.median(fits_median, axis = 2)\n",
    "  memory = (fits_median.nbytes / 1024)\n",
    "  timeStop = time.time() - timeTot\n",
    "  return median, timeStop, memory\n",
    "# You can use this to test your function.\n",
    "# Any code inside this `if` statement will be ignored by the automarker.\n",
    "if __name__ == '__main__':\n",
    "  # Run your function with first example in the question.\n",
    "  result = median_fits(['image0.fits', 'image1.fits'])\n",
    "  print(result[0][100, 100], result[1], result[2])\n",
    "  \n",
    "  # Run your function with second example in the question.\n",
    "  result = median_fits(['image{}.fits'.format(str(i)) for i in range(11)])\n",
    "  print(result[0][100, 100], result[1], result[2])"
   ]
  },
  {
   "cell_type": "markdown",
   "metadata": {},
   "source": [
    "This code uses external files again. This function, when called, returns the median array, the time it took to get the median, and the memory used."
   ]
  }
 ],
 "metadata": {
  "kernelspec": {
   "display_name": "Python 3",
   "language": "python",
   "name": "python3"
  },
  "language_info": {
   "codemirror_mode": {
    "name": "ipython",
    "version": 3
   },
   "file_extension": ".py",
   "mimetype": "text/x-python",
   "name": "python",
   "nbconvert_exporter": "python",
   "pygments_lexer": "ipython3",
   "version": "3.6.4"
  }
 },
 "nbformat": 4,
 "nbformat_minor": 2
}
